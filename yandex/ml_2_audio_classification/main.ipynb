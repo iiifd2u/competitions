{
 "cells": [
  {
   "cell_type": "code",
   "execution_count": 1,
   "id": "dc75bb11-a080-4f72-be34-f0a92abdb28b",
   "metadata": {
    "execution": {
     "iopub.execute_input": "2024-11-29T05:20:17.294625Z",
     "iopub.status.busy": "2024-11-29T05:20:17.293446Z",
     "iopub.status.idle": "2024-11-29T05:20:28.503737Z",
     "shell.execute_reply": "2024-11-29T05:20:28.502965Z",
     "shell.execute_reply.started": "2024-11-29T05:20:17.294583Z"
    },
    "tags": []
   },
   "outputs": [],
   "source": [
    "import re\n",
    "import os\n",
    "import json\n",
    "import math\n",
    "import random\n",
    "import time\n",
    "import tarfile\n",
    "import random\n",
    "import numpy as np\n",
    "from datetime import datetime\n",
    "from typing import Optional\n",
    "from collections import Counter\n",
    "from configparser import ConfigParser\n",
    "from typing import List, Dict, Tuple, Optional, Union\n",
    "\n",
    "import torch\n",
    "import torch.nn as nn\n",
    "import torch.nn.functional as F\n",
    "from torch.nn.utils.rnn import pad_sequence\n",
    "from torch.utils.data import DataLoader\n",
    "from torch import Tensor\n",
    "\n",
    "# from tqdm.auto import tqdm, trange\n",
    "\n",
    "import logging\n",
    "import tarfile\n",
    "# from tqdm import tqdm\n",
    "\n",
    "\n",
    "import matplotlib.pyplot as plt\n",
    "import numpy as np\n",
    "import pandas as pd\n",
    "import requests\n",
    "import tqdm.notebook as tqdm\n",
    "import torch.utils.data as torch_data\n",
    "import torchaudio\n",
    "from sklearn.metrics import balanced_accuracy_score\n",
    "\n",
    "from IPython.display import clear_output\n",
    "\n",
    "%matplotlib inline\n",
    "\n"
   ]
  },
  {
   "cell_type": "code",
   "execution_count": 2,
   "id": "36fb642d-3092-45cd-be5a-ea3d12f2b376",
   "metadata": {
    "execution": {
     "iopub.execute_input": "2024-11-29T05:20:28.506546Z",
     "iopub.status.busy": "2024-11-29T05:20:28.505777Z",
     "iopub.status.idle": "2024-11-29T05:20:28.529090Z",
     "shell.execute_reply": "2024-11-29T05:20:28.528251Z",
     "shell.execute_reply.started": "2024-11-29T05:20:28.506508Z"
    },
    "tags": []
   },
   "outputs": [],
   "source": [
    "def get_date_id():\n",
    "    now = datetime.now()\n",
    "    date_id = now.strftime(\"%Y%m%d_%H%M%S\")\n",
    "    return date_id\n",
    "\n",
    "\n",
    "# def save_submission(submission:List, save_dir:str):\n",
    "#   os.makedirs(save_dir, exist_ok=True)\n",
    "#   filename = os.path.join(f\"submission_{get_date_id()}.txt\")\n",
    "#   with open(os.path.join(save_dir, filename), \"w\") as f:\n",
    "#       for line in submission:\n",
    "#           f.write(\"{}\\n\".format(\" \".join(list(map(str, map(int, line))))))\n",
    "\n",
    "def save_submission(submission:List[dict], save_dir:str):\n",
    "    os.makedirs(save_dir, exist_ok=True)\n",
    "    filename = os.path.join(f\"submission_{get_date_id()}.jsonl\")\n",
    "    with open(os.path.join(save_dir, filename), \"w\", encoding=\"utf-8\") as f:\n",
    "        for di in submission:\n",
    "            line = json.dumps(di, sort_keys=True, ensure_ascii=False, separators=(',', ':'))\n",
    "            f.write(line+\"\\n\")\n",
    "\n",
    "def save_models(model:nn.Module, optimizer, model_name:str, save_dir:str):\n",
    "    os.makedirs(save_dir, exist_ok=True)\n",
    "    filename = os.path.join(f\"{model_name}_{get_date_id()}.pt\")\n",
    "    try:\n",
    "        # torch.save(model.state_dict(), os.path.join(save_dir, filename))\n",
    "        torch.save({\n",
    "            'model_state_dict': model.state_dict(),\n",
    "            'optimizer_state_dict': optimizer.state_dict()\n",
    "            # 'scheduler_step_dict': scheduler.state_dict()\n",
    "            }, os.path.join(save_dir, filename))\n",
    "    except Exception as e:\n",
    "        print(f\"ошибка в сохранении модели {e}\")\n",
    "\n",
    "def load_weights(model:nn.Module, path:str, device:torch.device):\n",
    "    if os.path.exists(path):\n",
    "        model.load_state_dict(torch.load(path, map_location=device, weights_only=True))\n",
    "        print(f\"Модель успешно загружена из {path}\")\n",
    "    else:\n",
    "        print(\"Путь модели не существует!\")\n",
    "\n",
    "\n",
    "def load_config(path: str) ->ConfigParser:\n",
    "    try:\n",
    "        config = ConfigParser()\n",
    "        config.read(path)\n",
    "        return config\n",
    "    except Exception as e:\n",
    "        print(f\"ошибка чтения конфига {e}\")\n",
    "\n"
   ]
  },
  {
   "cell_type": "code",
   "execution_count": 16,
   "id": "0b2e07d9-21aa-4fa1-b406-73cb5ac74c49",
   "metadata": {
    "execution": {
     "iopub.execute_input": "2024-11-29T05:22:40.592014Z",
     "iopub.status.busy": "2024-11-29T05:22:40.591148Z",
     "iopub.status.idle": "2024-11-29T05:22:40.611416Z",
     "shell.execute_reply": "2024-11-29T05:22:40.610676Z",
     "shell.execute_reply.started": "2024-11-29T05:22:40.591973Z"
    },
    "tags": []
   },
   "outputs": [],
   "source": [
    "root = \"/home/jupyter/datasphere/project/\"\n",
    "data_dir = os.path.join(root, \"data\")\n",
    "train_path_zip = os.path.join(data_dir, \"zip\")\n",
    "dist_path = os.path.join(train_path_zip, \"ml_trains.tar.gz\")\n",
    "DATADIR = os.path.join(data_dir, 'ml_trains_data')\n",
    "models_dir = os.path.join(root, \"models\")\n",
    "noise_dir = os.path.join(root, \"noises\")\n",
    "log_dir = os.path.join(root, \"log\")\n",
    "LOADER_WORKERS = 0\n",
    "# DEVICE = torch.device(\"cpu\")\n",
    "DEVICE = torch.device(\"cuda\")"
   ]
  },
  {
   "cell_type": "code",
   "execution_count": 4,
   "id": "8614b448-a90c-4909-8bf2-82649f9f4e49",
   "metadata": {
    "execution": {
     "iopub.execute_input": "2024-11-29T05:20:28.547077Z",
     "iopub.status.busy": "2024-11-29T05:20:28.545781Z",
     "iopub.status.idle": "2024-11-29T05:20:28.562182Z",
     "shell.execute_reply": "2024-11-29T05:20:28.561349Z",
     "shell.execute_reply.started": "2024-11-29T05:20:28.547018Z"
    },
    "tags": []
   },
   "outputs": [],
   "source": [
    "def save_logs(log_file, log_dir, epoch, lr, train_loss, train_acc, val_loss, val_acc):\n",
    "    with open(os.path.join(log_dir, log_file), \"a\") as lf:\n",
    "        lf.write(f'Datetime {get_date_id()}.\\n')\n",
    "        lf.write(f'Epoch {epoch + 1}.\\n')\n",
    "        lf.write(f'lr = {lr} \\n')\n",
    "        lf.write(f'Train loss {train_loss}. Train accuracy {train_acc}.\\n')\n",
    "        lf.write(f'Test loss {val_loss}. Test accuracy {val_acc}\\n')"
   ]
  },
  {
   "cell_type": "code",
   "execution_count": 57,
   "id": "e1bbfa4d-d893-463e-a2fd-8e32ff1f857a",
   "metadata": {
    "execution": {
     "iopub.execute_input": "2024-11-26T07:41:11.012137Z",
     "iopub.status.busy": "2024-11-26T07:41:11.009659Z",
     "iopub.status.idle": "2024-11-26T07:41:11.035929Z",
     "shell.execute_reply": "2024-11-26T07:41:11.035128Z",
     "shell.execute_reply.started": "2024-11-26T07:41:11.012100Z"
    },
    "tags": []
   },
   "outputs": [],
   "source": [
    "# ## Для добавления файлов с Яндекс.Диска\n",
    "# import requests\n",
    "# final_url = \"https://cloud-api.yandex.net/v1/disk/public/resources/download?public_key=...\"\n",
    "# response = requests.get(final_url)\n",
    "# download_url = response.json()['href']\n",
    "# response = requests.get(download_url)\n",
    "# # Имя файла\n",
    "\n",
    "# with open(dist_path, 'wb') as f:\n",
    "#     f.write(response.content)\n"
   ]
  },
  {
   "cell_type": "code",
   "execution_count": 10,
   "id": "e989e9bf-26d3-440d-9abb-dc96446587ca",
   "metadata": {
    "execution": {
     "iopub.execute_input": "2024-11-25T20:28:15.568882Z",
     "iopub.status.busy": "2024-11-25T20:28:15.567624Z",
     "iopub.status.idle": "2024-11-25T20:40:03.600501Z",
     "shell.execute_reply": "2024-11-25T20:40:03.599519Z",
     "shell.execute_reply.started": "2024-11-25T20:28:15.568831Z"
    },
    "tags": []
   },
   "outputs": [
    {
     "name": "stderr",
     "output_type": "stream",
     "text": [
      "100%|██████████| 58434/58434 [11:22<00:00, 85.66it/s]  \n"
     ]
    }
   ],
   "source": [
    "# with tarfile.open(dist_path) as tar:\n",
    "#     for mem in tqdm(iterable=tar.getmembers(), total=len(tar.getmembers())):\n",
    "#         try:\n",
    "#             tar.extract(mem, data_dir)\n",
    "#             # print(member)\n",
    "#         except Exception as e:\n",
    "#             print(\"Extracting error:\", e)\n",
    "#             pass"
   ]
  },
  {
   "cell_type": "markdown",
   "id": "667167ee-75b7-460c-a899-230f9397fc24",
   "metadata": {},
   "source": [
    "### Отрисовка"
   ]
  },
  {
   "cell_type": "code",
   "execution_count": 5,
   "id": "a6007b12-b9b7-41dc-9a84-3b8923e521db",
   "metadata": {
    "execution": {
     "iopub.execute_input": "2024-11-29T05:20:28.564188Z",
     "iopub.status.busy": "2024-11-29T05:20:28.563565Z",
     "iopub.status.idle": "2024-11-29T05:20:28.588479Z",
     "shell.execute_reply": "2024-11-29T05:20:28.587756Z",
     "shell.execute_reply.started": "2024-11-29T05:20:28.564149Z"
    },
    "tags": []
   },
   "outputs": [],
   "source": [
    "def plot_spectrogram(specgram, title=None, ylabel=\"freq_bin\", ax=None):\n",
    "\tif ax is None:\n",
    "\t\t_, ax = plt.subplots(1, 1)\n",
    "\tif title is not None:\n",
    "\t\tax.set_title(title)\n",
    "\tax.set_ylabel(ylabel)\n",
    "\tax.imshow(librosa.power_to_db(specgram), origin=\"lower\", aspect=\"auto\", interpolation=\"nearest\")\n",
    "\n",
    "\n",
    "def plot_waveform(waveform, sr, title=\"Waveform\", ax=None):\n",
    "\twaveform = waveform.numpy()\n",
    "\n",
    "\tnum_channels, num_frames = waveform.shape\n",
    "\ttime_axis = torch.arange(0, num_frames) / sr\n",
    "\n",
    "\tif ax is None:\n",
    "\t\t_, ax = plt.subplots(num_channels, 1)\n",
    "\tax.plot(time_axis, waveform[0], linewidth=1)\n",
    "\tax.grid(True)\n",
    "\tax.set_xlim([0, time_axis[-1]])\n",
    "\tax.set_title(title)"
   ]
  },
  {
   "cell_type": "code",
   "execution_count": 4,
   "id": "9a98947d-f6de-44fe-989c-5c821cb03a3f",
   "metadata": {
    "execution": {
     "iopub.execute_input": "2024-11-25T21:04:50.792361Z",
     "iopub.status.busy": "2024-11-25T21:04:50.791634Z",
     "iopub.status.idle": "2024-11-25T21:04:50.821210Z",
     "shell.execute_reply": "2024-11-25T21:04:50.820407Z",
     "shell.execute_reply.started": "2024-11-25T21:04:50.792330Z"
    },
    "tags": []
   },
   "outputs": [],
   "source": [
    "# DEVICE = 'cpu' # also you can use \"cuda\" for gpu and \"mps\" for apple silicon\n"
   ]
  },
  {
   "cell_type": "markdown",
   "id": "ce48bc30-5e5c-4898-812f-adf436970eba",
   "metadata": {},
   "source": [
    "### Аугментация"
   ]
  },
  {
   "cell_type": "code",
   "execution_count": 29,
   "id": "6cee359f-3327-4dc3-872e-85abbd536ab1",
   "metadata": {
    "execution": {
     "iopub.execute_input": "2024-11-29T08:04:46.148345Z",
     "iopub.status.busy": "2024-11-29T08:04:46.145527Z",
     "iopub.status.idle": "2024-11-29T08:04:46.220762Z",
     "shell.execute_reply": "2024-11-29T08:04:46.219918Z",
     "shell.execute_reply.started": "2024-11-29T08:04:46.148293Z"
    },
    "tags": []
   },
   "outputs": [],
   "source": [
    "def random_mask_area(sound: torch.tensor):\n",
    "    \"\"\"волна [1, shape]\"\"\"\n",
    "    total_l = sound.shape[1]\n",
    "    mask = torch.ones(size=(total_l,))\n",
    "    for i in range(random.randint(2, 5)):\n",
    "        area_l = total_l // random.randint(15, 35)\n",
    "        pos = random.randint(0, total_l - area_l)\n",
    "        mask[pos:pos + area_l] = 0\n",
    "    mask = mask.unsqueeze(0)\n",
    "    return sound[:, ]*mask\n",
    "\n",
    "def take_random_part(sound: torch.tensor):\n",
    "    \"\"\"волна [1, shape]\"\"\"\n",
    "    total_l = sound.shape[1]\n",
    "    area_l = int(total_l / (random.randint(12, 18)/10))\n",
    "    pos = random.randint(0, total_l - area_l)\n",
    "    crop = sound[:, pos:pos+area_l]\n",
    "    crop=crop.repeat_interleave(2)\n",
    "    crop_len=crop.shape[0]\n",
    "    start=random.randint(0, crop_len-total_l-1)\n",
    "    crop=crop[start:start+total_l]\n",
    "    #print(f\"crop success with {crop.shape}\")\n",
    "    return crop.unsqueeze(0)#  пока заглушка\n",
    "\n",
    "\n",
    "def add_random_noise(signal):\n",
    "    \"\"\"Случайный шум из папки\"\"\"\n",
    "    coef=(random.random()+1)/20.\n",
    "    noise_file = random.choice(os.listdir(noise_dir))\n",
    "    noise_path = os.path.join(noise_dir, noise_file)\n",
    "    noise, _ = torchaudio.load(noise_path, normalize=True)\n",
    "    min_len=min(signal.shape[-1], noise.shape[-1])\n",
    "    new_signal = signal[:, :min_len] + noise[:, :min_len] * coef\n",
    "    return new_signal / torch.max(torch.abs(new_signal))\n",
    "\n",
    "def dummy(signal):\n",
    "    return signal\n",
    "    \n",
    "def add_gauss(spec):\n",
    "    \"\"\"\"\"\"\n",
    "    gauss = torch.normal(0, 7, size = spec.shape)\n",
    "    return gauss+spec"
   ]
  },
  {
   "cell_type": "markdown",
   "id": "68e41702-3eaf-4853-b94e-709e143414aa",
   "metadata": {
    "tags": []
   },
   "source": [
    "### Встроенный датасет"
   ]
  },
  {
   "cell_type": "code",
   "execution_count": 30,
   "id": "48cedf03-1c4e-4499-ab48-9b78d3ce8a6b",
   "metadata": {
    "execution": {
     "iopub.execute_input": "2024-11-29T08:04:51.030112Z",
     "iopub.status.busy": "2024-11-29T08:04:51.028977Z",
     "iopub.status.idle": "2024-11-29T08:04:51.157866Z",
     "shell.execute_reply": "2024-11-29T08:04:51.157070Z",
     "shell.execute_reply.started": "2024-11-29T08:04:51.030068Z"
    }
   },
   "outputs": [],
   "source": [
    "class Dataset(torch_data.Dataset):\n",
    "    def __init__(self, split_part: str, datadir: str, feats: nn.Module, read_labels=True):\n",
    "        super().__init__()\n",
    "        self.split_part=split_part\n",
    "        data = pd.read_csv(os.path.join(datadir, f'{split_part}.tsv'), sep='\\t')\n",
    "        if read_labels:\n",
    "            labels = {key: idx for idx, key in enumerate(sorted(set(data.label.values)))}\n",
    "            self._idx_to_label = {idx: key for idx, key in enumerate(sorted(set(data.label.values)))}\n",
    "            self._classes = len(labels)\n",
    "        else:\n",
    "            self._classes = 30\n",
    "        self.lst = [0, 1,2,3,4]\n",
    "        self.funcs =[dummy, add_gauss, random_mask_area, take_random_part, add_random_noise]\n",
    "        self.probs = [0.6, 0.3, 0.05, 0.03, 0.02]\n",
    "        self._feats = feats\n",
    "        self._ytids = []\n",
    "        self._pathes = []\n",
    "        self._labels = []\n",
    "        for _, row in data.iterrows():\n",
    "            path = os.path.join(datadir, 'clips', f'{row.YTID}.flac')\n",
    "            if os.path.exists(path):\n",
    "                self._ytids.append(row.YTID)\n",
    "                self._pathes.append(path)\n",
    "                self._labels.append(labels[row.label] if read_labels else 0)\n",
    "        #print(self._labels)\n",
    "        self._df = pd.DataFrame([[y, p, c] for y, p, c in zip(self._ytids, self._pathes, self._labels)], columns=['YTID', 'path', 'code'])\n",
    "        #print(self._df)\n",
    "    def __getitem__(self, index):\n",
    "        try:\n",
    "            anchor_path = self._pathes[index]\n",
    "            anchor_lab = self._labels[index]\n",
    "            anchor_waveform, sample_rate = torchaudio.load(self._pathes[index])\n",
    "            if self.split_part!=\"eval\":\n",
    "                # pos_path=random.choice(self._df.loc[self._df.code==anchor_lab, \"path\"].to_list())\n",
    "                # neg_path=random.choice(self._df.loc[self._df.code!=anchor_lab, \"path\"].to_list())\n",
    "                pos_path=self._df.loc[self._df.code==anchor_lab, :].sample()[\"path\"].to_list()[0]\n",
    "                neg_path=self._df.loc[self._df.code!=anchor_lab, :].sample()[\"path\"].to_list()[0]\n",
    "                pos_waveform, _ = torchaudio.load(pos_path)\n",
    "                neg_waveform, _ = torchaudio.load(neg_path)\n",
    "        except Exception as err:\n",
    "            logging.error(\"Can't read file %s\", self._pathes[index])\n",
    "            raise err\n",
    "        assert sample_rate == 16000\n",
    "        assert anchor_waveform.shape[0] == 1\n",
    "        \"\"\"ТУТ АУГМЕНТАЦИЯ\"\"\"\n",
    "        anchor_rand = np.random.choice(self.lst, p=self.probs)\n",
    "        pos_rand = np.random.choice(self.lst, p=self.probs)\n",
    "        neg_rand = np.random.choice(self.lst, p=self.probs)\n",
    "        #print(f\"a={anchor_rand}, p={pos_rand}, n={neg_rand}\")\n",
    "        if self.split_part==\"train\":\n",
    "            if anchor_rand>1:\n",
    "                anchor_waveform = self.funcs[anchor_rand](anchor_waveform)\n",
    "            if pos_rand>1:\n",
    "                pos_waveform = self.funcs[pos_rand](pos_waveform)\n",
    "            if neg_rand>1:\n",
    "                neg_waveform = self.funcs[neg_rand](neg_waveform)\n",
    "        #    # print(\"HERE!\")\n",
    "        #    randomizer = random.random()\n",
    "        #    if randomizer>0.95:\n",
    "        #        coef=(random.random()+1)/20.\n",
    "        #        anchor_waveform = add_random_noise(anchor_waveform, coef=coef)\n",
    "        #        if self.split_part!=\"eval\":\n",
    "        #            pos_waveform = add_random_noise(pos_waveform, coef=coef)\n",
    "        #    elif randomizer>0.65:\n",
    "        #        anchor_waveform = random_mask_area(anchor_waveform)\n",
    "        #        if self.split_part!=\"eval\":\n",
    "        #            pos_waveform = random_mask_area(pos_waveform)\n",
    "        #    elif randomizer>0.6:\n",
    "        #        anchor_waveform = take_random_part(anchor_waveform)\n",
    "        #        if self.split_part!=\"eval\":\n",
    "        #            pos_waveform = take_random_part(pos_waveform)\n",
    "        #anchor_feats = self._feats(anchor_waveform)[0]\n",
    "        #if self.split_part!=\"eval\":\n",
    "        #    pos_feats = self._feats(pos_waveform)[0]\n",
    "        #    neg_feats = self._feats(neg_waveform)[0]\n",
    "        anchor_feats = self._feats(anchor_waveform)[0]\n",
    "        if anchor_rand==1:\n",
    "            anchor_feats=add_gauss(anchor_feats)\n",
    "        if self.split_part!=\"eval\":\n",
    "            pos_feats = self._feats(pos_waveform)[0]\n",
    "            if pos_rand==1:\n",
    "                pos_feats=add_gauss(pos_feats)\n",
    "            neg_feats = self._feats(neg_waveform)[0]\n",
    "            if neg_rand==1:\n",
    "                neg_feats=add_gauss(neg_feats)\n",
    "        else:\n",
    "            pos_feats = torch.zeros_like(anchor_feats)\n",
    "            neg_feats = torch.zeros_like(anchor_feats)\n",
    "        #return (anchor_feats, pos_feats, neg_feats, self._labels[index])\n",
    "        # Для эвала остальные значения вернуть torch.empty(0)\n",
    "        return {'anchor':anchor_feats,\n",
    "                    'pos':pos_feats,\n",
    "                    'neg':neg_feats,\n",
    "                    'label':self._labels[index]}\n",
    "    def __len__(self) -> int:\n",
    "        return len(self._pathes)\n",
    "    def classes(self) -> int:\n",
    "        return self._classes\n",
    "def collate_fn(batch):\n",
    "    max_length = max(max(item['anchor'].shape[1], item['pos'].shape[1], item['neg'].shape[1]) for item in batch)\n",
    "    A = torch.zeros((len(batch), batch[0]['anchor'].shape[0], max_length))\n",
    "    P = torch.zeros((len(batch), batch[0]['pos'].shape[0], max_length))\n",
    "    N = torch.zeros((len(batch), batch[0]['neg'].shape[0], max_length))\n",
    "    for idx, item in enumerate(batch):\n",
    "        A[idx, :, :item['anchor'].shape[1]] = item['anchor']\n",
    "        P[idx, :, :item['pos'].shape[1]]=item['pos']\n",
    "        N[idx, :, :item['neg'].shape[1]]=item['neg']\n",
    "    targets = torch.tensor([item['label'] for item in batch], dtype=torch.long).reshape(len(batch), 1)\n",
    "    return {'anchor':A, 'pos':P, 'neg':N, 'targets':targets}"
   ]
  },
  {
   "cell_type": "code",
   "execution_count": 7,
   "id": "9f975717-ceba-4ae1-a37a-0211552f6d60",
   "metadata": {
    "execution": {
     "iopub.execute_input": "2024-11-29T05:20:28.629311Z",
     "iopub.status.busy": "2024-11-29T05:20:28.628069Z",
     "iopub.status.idle": "2024-11-29T05:20:28.662590Z",
     "shell.execute_reply": "2024-11-29T05:20:28.661767Z",
     "shell.execute_reply.started": "2024-11-29T05:20:28.629270Z"
    },
    "tags": []
   },
   "outputs": [],
   "source": [
    "class Dataset(torch_data.Dataset):\n",
    "    def __init__(self, split_part: str, datadir: str, feats: nn.Module, read_labels=True):\n",
    "        super().__init__()\n",
    "        self.split_part = split_part\n",
    "        data = pd.read_csv(os.path.join(datadir, f'{split_part}.tsv'), sep='\\t')\n",
    "        if read_labels:\n",
    "            labels = {key: idx for idx, key in enumerate(sorted(set(data.label.values)))}\n",
    "            self._idx_to_label = {idx: key for idx, key in enumerate(sorted(set(data.label.values)))}\n",
    "            self._classes = len(labels)\n",
    "        else:\n",
    "            self._classes = 30\n",
    "\n",
    "        self.lst = [0, 1, 2, 3, 4]\n",
    "        self.funcs = [dummy, add_gauss, random_mask_area, take_random_part, add_random_noise]\n",
    "        self.probs = [0.6, 0.15, 0.15, 0.05, 0.05]\n",
    "\n",
    "        self._feats = feats\n",
    "        self._ytids = []\n",
    "        self._pathes = []\n",
    "        self._labels = []\n",
    "        for _, row in data.iterrows():\n",
    "            path = os.path.join(datadir, 'clips', f'{row.YTID}.flac')\n",
    "            if os.path.exists(path):\n",
    "                self._ytids.append(row.YTID)\n",
    "                self._pathes.append(path)\n",
    "                self._labels.append(labels[row.label] if read_labels else 0)\n",
    "        # print(self._labels)\n",
    "        self._df = pd.DataFrame([[y, p, c] for y, p, c in zip(self._ytids, self._pathes, self._labels)],\n",
    "                                columns=['YTID', 'path', 'code'])\n",
    "        # print(self._df)\n",
    "\n",
    "    def __getitem__(self, index):\n",
    "        try:\n",
    "            anchor_waveform, sample_rate = torchaudio.load(self._pathes[index])\n",
    "        except Exception as err:\n",
    "            logging.error(\"Can't read file %s\", self._pathes[index])\n",
    "            raise err\n",
    "        assert sample_rate == 16000\n",
    "        assert anchor_waveform.shape[0] == 1\n",
    "        \"\"\"ТУТ АУГМЕНТАЦИЯ\"\"\"\n",
    "        anchor_rand = np.random.choice(self.lst, p=self.probs)\n",
    "\n",
    "        if self.split_part == \"train\":\n",
    "            if anchor_rand > 1:\n",
    "                anchor_waveform = self.funcs[anchor_rand](anchor_waveform)\n",
    "        anchor_feats = self._feats(anchor_waveform)[0]\n",
    "        return {'anchor': anchor_feats,\n",
    "                'label': self._labels[index]}\n",
    "\n",
    "\n",
    "    def __len__(self) -> int:\n",
    "        return len(self._pathes)\n",
    "\n",
    "\n",
    "    def classes(self) -> int:\n",
    "        return self._classes\n",
    "\n",
    "\n",
    "def collate_fn(batch):\n",
    "    max_length = max(item['anchor'].shape[1] for item in batch)\n",
    "    A = torch.zeros((len(batch), batch[0]['anchor'].shape[0], max_length))\n",
    "    for idx, item in enumerate(batch):\n",
    "        A[idx, :, :item['anchor'].shape[1]] = item['anchor']\n",
    "    targets = torch.tensor([item['label'] for item in batch], dtype=torch.long).reshape(len(batch), 1)\n",
    "    return {'anchor': A, 'targets': targets}"
   ]
  },
  {
   "cell_type": "code",
   "execution_count": 31,
   "id": "50886bbb-8803-45f4-9822-e9fc792005ff",
   "metadata": {
    "execution": {
     "iopub.execute_input": "2024-11-29T08:05:42.269574Z",
     "iopub.status.busy": "2024-11-29T08:05:42.268500Z",
     "iopub.status.idle": "2024-11-29T08:05:50.859373Z",
     "shell.execute_reply": "2024-11-29T08:05:50.858515Z",
     "shell.execute_reply.started": "2024-11-29T08:05:42.269533Z"
    },
    "tags": []
   },
   "outputs": [
    {
     "data": {
      "text/plain": [
       "{'anchor': tensor([[23.1075, 27.8997, 27.7202,  ..., -6.5335, -4.4416, 15.7944],\n",
       "         [30.4158, 37.9619, 27.6362,  ..., -7.9414, -2.5586, 16.4342],\n",
       "         [32.3773, 42.6329, 29.5716,  ..., -0.7667, -2.4372, 16.9976],\n",
       "         ...,\n",
       "         [17.0152, 15.9187, 17.9184,  ..., -4.2021, -5.2107, -0.9563],\n",
       "         [11.3131, 13.4983, 15.9306,  ..., -4.5632, -1.1623,  2.4703],\n",
       "         [ 6.4399,  9.2846, 16.2413,  ..., -1.0042,  2.6574,  2.5936]]),\n",
       " 'pos': tensor([[ -6.1741, -12.1439, -11.5660,  ...,   1.9685,   4.8346,   7.4183],\n",
       "         [ -1.0396,  -3.4246,   2.4296,  ...,  16.3196,  10.5674,  13.9047],\n",
       "         [ 14.7322,   4.0784,  13.5942,  ...,  17.8000,  14.4829,  16.3238],\n",
       "         ...,\n",
       "         [  3.2721,   5.1121,  -0.8301,  ...,  17.9430,  14.6676,   2.0127],\n",
       "         [ -2.1338,  -4.1976,  -7.5721,  ...,  11.6045,  11.4510,   9.9156],\n",
       "         [  1.5732,  -0.2302,  -6.8576,  ...,   9.5732,  12.9068,  12.6958]]),\n",
       " 'neg': tensor([[  2.4561,   2.4123,  11.7268,  ...,  10.9203,  18.5634,  22.6479],\n",
       "         [ 13.5987, -11.4645,  -5.3171,  ..., -11.7285, -16.8783, -13.4206],\n",
       "         [  3.2696, -10.9010, -16.5949,  ..., -22.8202,  -7.3177,  -8.6134],\n",
       "         ...,\n",
       "         [-38.3077, -34.2692, -44.7234,  ..., -14.7180, -13.2821, -13.4081],\n",
       "         [-50.5671, -45.1767, -33.4210,  ..., -26.5552, -24.3475, -18.6100],\n",
       "         [-41.2371, -40.7440, -36.0025,  ...,  -7.3781, -15.2284, -26.6784]]),\n",
       " 'label': 14}"
      ]
     },
     "execution_count": 31,
     "metadata": {},
     "output_type": "execute_result"
    }
   ],
   "source": [
    "class LogMelSpectrogram(nn.Module):\n",
    "    pass\n",
    "\n",
    "# FBANK 40 by default, but you can choose something else\n",
    "FEATS = 128\n",
    "transform = nn.Sequential(torchaudio.transforms.MelSpectrogram(n_mels=FEATS, n_fft=2048), #было n_mels=64, n_fft=400\n",
    "                          torchaudio.transforms.AmplitudeToDB())\n",
    "#transform = torchaudio.transforms.MelSpectrogram(n_mels=FEATS, n_fft=2048)\n",
    "trainset = Dataset('train', DATADIR, transform)\n",
    "testset = Dataset('eval', DATADIR, transform, read_labels=False)\n",
    "N_CLASSES = trainset.classes()\n",
    "assert N_CLASSES == 30\n",
    "trainset[0]"
   ]
  },
  {
   "cell_type": "code",
   "execution_count": 32,
   "id": "976ce964-7c2b-4ad0-8218-2c7b30fc9808",
   "metadata": {
    "execution": {
     "iopub.execute_input": "2024-11-29T08:05:55.607248Z",
     "iopub.status.busy": "2024-11-29T08:05:55.606284Z",
     "iopub.status.idle": "2024-11-29T08:05:55.628105Z",
     "shell.execute_reply": "2024-11-29T08:05:55.627301Z",
     "shell.execute_reply.started": "2024-11-29T08:05:55.607213Z"
    },
    "tags": []
   },
   "outputs": [],
   "source": [
    "def balanced_accuracy(items: list[tuple[int, int]], classes=N_CLASSES) -> float:\n",
    "    targets = np.array([el[0] for el in items], dtype = np.int16)\n",
    "    preds = np.array([el[1] for el in items], dtype = np.int16)\n",
    "    BAcc = balanced_accuracy_score(targets, preds)\n",
    "    return BAcc"
   ]
  },
  {
   "cell_type": "code",
   "execution_count": 9,
   "id": "7ff56238-f1f8-4357-a44a-926c3446b6bd",
   "metadata": {
    "execution": {
     "iopub.execute_input": "2024-11-28T21:08:47.585970Z",
     "iopub.status.busy": "2024-11-28T21:08:47.585325Z",
     "iopub.status.idle": "2024-11-28T21:08:47.610985Z",
     "shell.execute_reply": "2024-11-28T21:08:47.610326Z",
     "shell.execute_reply.started": "2024-11-28T21:08:47.585935Z"
    },
    "tags": []
   },
   "outputs": [],
   "source": [
    "assert np.isclose(balanced_accuracy([(0, 0), (0, 0), (1, 1)], 2), 1.0)\n",
    "assert np.isclose(balanced_accuracy([(0, 1), (1, 0)], 2), 0.0)\n",
    "assert np.isclose(balanced_accuracy([(0, 0), (0, 0), (1, 0)], 2), 0.5)\n",
    "assert np.isclose(balanced_accuracy([(0, 0), (1, 1), (0, 0), (0, 0), (1, 0), (0, 1)], 2), 0.625)\n",
    "assert np.isclose(balanced_accuracy([(1, 1), (0, 1), (2, 2)], 3), 0.66666666666666)"
   ]
  },
  {
   "cell_type": "markdown",
   "id": "390dfa50-91a9-4349-80d1-2e708d309d7a",
   "metadata": {},
   "source": [
    "### Взвешенные классы"
   ]
  },
  {
   "cell_type": "code",
   "execution_count": 33,
   "id": "f142c81b-8ebb-4c17-a6c7-3b63d8d85afc",
   "metadata": {
    "execution": {
     "iopub.execute_input": "2024-11-29T08:06:00.734299Z",
     "iopub.status.busy": "2024-11-29T08:06:00.733330Z",
     "iopub.status.idle": "2024-11-29T08:06:00.827376Z",
     "shell.execute_reply": "2024-11-29T08:06:00.826355Z",
     "shell.execute_reply.started": "2024-11-29T08:06:00.734255Z"
    },
    "tags": []
   },
   "outputs": [
    {
     "name": "stdout",
     "output_type": "stream",
     "text": [
      "                     YTID                         label  code\n",
      "0       4i1aizhCnfg_30000                         Music    14\n",
      "1      G3y5z37XW8E_200000                         Water    27\n",
      "2       1imx8d_Ec_4_40000    Child speech, kid speaking     3\n",
      "3       FJoR8b-lTgY_30000                        Engine     5\n",
      "4       BDH7Fx1APR8_40000                         Music    14\n",
      "...                   ...                           ...   ...\n",
      "26208   9K4_3pXBx9o_30000                          Bird     1\n",
      "26209   Gcro5iNZYzY_30000  Heavy engine (low frequency)     9\n",
      "26210   JcWq9vZQ8Zg_70000                      Laughter    12\n",
      "26211   jzXQRlLXBZw_40000                     Whistling    29\n",
      "26212   -0lziBunVX0_30000                        Speech    23\n",
      "\n",
      "[26213 rows x 3 columns]\n",
      "[0.83854766 0.93751788 1.02796078 1.31789844 1.0008782  0.99404626\n",
      " 1.11166243 1.09769682 1.02314598 1.04768185 1.12021368 1.06427121\n",
      " 1.30218579 1.16813725 0.57183682 1.14969298 1.12744086 1.07210634\n",
      " 1.13920035 1.13182211 0.88797425 1.1603807  1.17917229 0.54610417\n",
      " 0.99973303 1.12165169 0.78859807 0.97193178 1.12598797 1.1603807 ]\n"
     ]
    }
   ],
   "source": [
    "data = pd.read_csv(os.path.join(DATADIR, f'train.tsv'), sep='\\t')\n",
    "\n",
    "data['code'] = data.label.astype('category').cat.codes\n",
    "# print(data)\n",
    "y = data[\"code\"]\n",
    "y = y.to_numpy()    \n",
    "class_weights=sklearn.utils.class_weight.compute_class_weight(class_weight = 'balanced', classes = np.unique(y), y= y)\n",
    "print(class_weights)"
   ]
  },
  {
   "cell_type": "code",
   "execution_count": 18,
   "id": "b83d4477-5ae0-4b5f-89ca-04e34754db05",
   "metadata": {
    "execution": {
     "iopub.execute_input": "2024-11-26T21:34:20.728509Z",
     "iopub.status.busy": "2024-11-26T21:34:20.727539Z",
     "iopub.status.idle": "2024-11-26T21:34:20.747416Z",
     "shell.execute_reply": "2024-11-26T21:34:20.746515Z",
     "shell.execute_reply.started": "2024-11-26T21:34:20.728468Z"
    },
    "tags": []
   },
   "outputs": [
    {
     "data": {
      "text/plain": [
       "YTID     741\n",
       "label    741\n",
       "code     741\n",
       "dtype: int64"
      ]
     },
     "execution_count": 18,
     "metadata": {},
     "output_type": "execute_result"
    }
   ],
   "source": [
    "# data.loc[data.label == \"Sound effect\"].count()"
   ]
  },
  {
   "cell_type": "markdown",
   "id": "a49b19c6-0552-4af6-bb3c-17f45f42b3e7",
   "metadata": {
    "tags": []
   },
   "source": [
    "### Встроенный трейн"
   ]
  },
  {
   "cell_type": "code",
   "execution_count": 39,
   "id": "3ca714b9-1d2c-46ed-8cd2-daaf511df36c",
   "metadata": {
    "execution": {
     "iopub.execute_input": "2024-11-29T08:07:38.267391Z",
     "iopub.status.busy": "2024-11-29T08:07:38.265979Z",
     "iopub.status.idle": "2024-11-29T08:07:38.313092Z",
     "shell.execute_reply": "2024-11-29T08:07:38.312277Z",
     "shell.execute_reply.started": "2024-11-29T08:07:38.267345Z"
    },
    "tags": []
   },
   "outputs": [],
   "source": [
    "def batch_distance(x, y):\n",
    "    return 1.0 - F.cosine_similarity(x, y)\n",
    "loss_1 = nn.CrossEntropyLoss(weight=torch.from_numpy(class_weights).to(DEVICE).float(),reduction='mean')\n",
    "loss_2=nn.TripletMarginWithDistanceLoss(distance_function=lambda x, y: 1.0- F.cosine_similarity(x, y),\n",
    "                                        margin=1.2)\n",
    "def stage(\n",
    "    model: nn.Module,\n",
    "    data: torch_data.Dataset,\n",
    "    opt: torch.optim.Optimizer,\n",
    "    scheduler,\n",
    "    batch_size: int = 256,\n",
    "    train: bool = True\n",
    "):\n",
    "    loader = torch_data.DataLoader(\n",
    "        data,\n",
    "        batch_size=batch_size,\n",
    "        shuffle=True,\n",
    "        num_workers=LOADER_WORKERS,\n",
    "        collate_fn=collate_fn\n",
    "    )\n",
    "    if train:\n",
    "        model.train()\n",
    "    else:\n",
    "        model.eval()\n",
    "    loss_sum, batches = 0.0, 0\n",
    "    pred_pairs = []\n",
    "    for batched in tqdm.tqdm(loader):\n",
    "        A = batched['anchor']\n",
    "        P = batched['pos']\n",
    "        N = batched['neg']\n",
    "        Y = batched['targets']\n",
    "        pred_anchor = model.forward(A.to(DEVICE))\n",
    "        pred_pos = model.forward(P.to(DEVICE))\n",
    "        pred_neg = model.forward(N.to(DEVICE))\n",
    "        #print(pred_anchor.shape)\n",
    "        #print(pred_anchor.squeeze().shape)\n",
    "        # идея неверная!\n",
    "        # distances_neg = batch_distance(pred_anchor, pred_neg)\n",
    "        # max_neg_idx = torch.argmax(distances_neg).item()\n",
    "        # pred_neg_most = (torch.ones_like(pred_neg)*pred_neg[max_neg_idx]).to(DEVICE)\n",
    "        l1 = loss_1(pred_anchor.squeeze(), Y.squeeze().to(DEVICE))\n",
    "        l2 = loss_2(pred_anchor.squeeze(), pred_pos.squeeze(), pred_neg.squeeze())\n",
    "        loss = l1+l2\n",
    "        if train:\n",
    "            opt.zero_grad()\n",
    "            loss.backward()\n",
    "            opt.step()\n",
    "        else:\n",
    "            scheduler.step()\n",
    "        loss_sum += loss.item()\n",
    "        batches += 1\n",
    "        with torch.no_grad():\n",
    "            pred_pairs.extend(zip(\n",
    "                Y.data.numpy().reshape(-1),\n",
    "                torch.argmax(pred_anchor, dim=1).cpu().data.numpy().reshape(-1)\n",
    "            ))\n",
    "    return loss_sum / batches, balanced_accuracy(pred_pairs)\n",
    "def train(\n",
    "    model: nn.Module,\n",
    "    opt,\n",
    "    scheduler,\n",
    "    batch_size: int = 256,\n",
    "    epochs: int = 10,\n",
    "):\n",
    "    train_data, val_data = torch.utils.data.random_split(trainset, (0.99, 0.01), generator=torch.Generator().manual_seed(42))\n",
    "    train_losses, val_losses, train_accs, val_accs = [], [], [], []\n",
    "    for epoch_idx, epoch in enumerate(range(epochs)):\n",
    "        train_loss, train_acc = stage(model, train_data, opt, scheduler, batch_size=batch_size)\n",
    "        val_data.dataset.split_part=\"val\"\n",
    "        val_loss, val_acc = stage(model, val_data, opt, scheduler, batch_size=batch_size, train=False)\n",
    "        train_data.dataset.split_part=\"train\"\n",
    "        train_losses.append(train_loss)\n",
    "        train_accs.append(train_acc)\n",
    "        val_losses.append(val_loss)\n",
    "        val_accs.append(val_acc)\n",
    "        clear_output()\n",
    "        fig, axis = plt.subplots(1, 2, figsize=(15, 7))\n",
    "        axis[0].plot(np.arange(1, epoch + 2), train_losses, label='train')\n",
    "        axis[0].plot(np.arange(1, epoch + 2), val_losses, label='val')\n",
    "        axis[1].plot(np.arange(1, epoch + 2), train_accs, label='train')\n",
    "        axis[1].plot(np.arange(1, epoch + 2), val_accs, label='val')\n",
    "        axis[0].set(xlabel='epoch', ylabel='CE Loss')\n",
    "        axis[1].set(xlabel='epoch', ylabel='Accuracy')\n",
    "        fig.legend()\n",
    "        plt.show()\n",
    "        print(f'Epoch {epoch + 1}.')\n",
    "        print(f'Train loss {train_loss}. Train accuracy {train_acc}.')\n",
    "        print(f'Test loss {val_loss}. Test accuracy {val_acc}')\n",
    "        # opt.param_groups[0][\"lr\"]\n",
    "        save_logs(\"log.txt\", log_dir, epoch, scheduler.get_lr(), train_loss, train_acc, val_loss, val_acc)\n",
    "        if (epoch_idx+1)%1==0:\n",
    "            save_models(model, model_name = \"triplet_resnet\", optimizer = opt, save_dir = models_dir)"
   ]
  },
  {
   "cell_type": "markdown",
   "id": "693966b4-1995-4f43-adb9-e5690406e618",
   "metadata": {},
   "source": [
    "### resnet18 last"
   ]
  },
  {
   "cell_type": "code",
   "execution_count": 35,
   "id": "b3384464-9aba-499c-909f-eaef071e0f0a",
   "metadata": {
    "execution": {
     "iopub.execute_input": "2024-11-29T08:06:53.409451Z",
     "iopub.status.busy": "2024-11-29T08:06:53.408487Z",
     "iopub.status.idle": "2024-11-29T08:06:53.436076Z",
     "shell.execute_reply": "2024-11-29T08:06:53.435225Z",
     "shell.execute_reply.started": "2024-11-29T08:06:53.409417Z"
    },
    "tags": []
   },
   "outputs": [],
   "source": [
    "#import torch.nn as nn\n",
    "class BasicBlock(nn.Module):\n",
    "    def __init__(self, in_channels, out_channels, stride=1):\n",
    "        super(BasicBlock, self).__init__()\n",
    "        self.conv1 = nn.Conv2d(in_channels, out_channels, kernel_size=3, stride=stride, padding=1, bias=False)\n",
    "        self.bn1 = nn.BatchNorm2d(out_channels)\n",
    "        self.relu = nn.ReLU(inplace=True)\n",
    "        self.conv2 = nn.Conv2d(out_channels, out_channels, kernel_size=3, stride=1, padding=1, bias=False)\n",
    "        self.bn2 = nn.BatchNorm2d(out_channels)\n",
    "        \n",
    "        self.shortcut = nn.Sequential()\n",
    "        if stride != 1 or in_channels != out_channels:\n",
    "            self.shortcut = nn.Sequential(\n",
    "                nn.Conv2d(in_channels, out_channels, kernel_size=1, stride=stride, bias=False),\n",
    "                nn.BatchNorm2d(out_channels)\n",
    "            )\n",
    "    def forward(self, x):\n",
    "        out = self.conv1(x)\n",
    "        out = self.bn1(out)\n",
    "        out = self.relu(out)\n",
    "        out = self.conv2(out)\n",
    "        out = self.bn2(out)\n",
    "        out += self.shortcut(x)\n",
    "        out = self.relu(out)\n",
    "        return out\n",
    "class MyResNet18(nn.Module):\n",
    "    def __init__(self, num_classes=30):\n",
    "        super(MyResNet18, self).__init__()\n",
    "        self.in_channels = 64\n",
    "        self.conv1 = nn.Conv2d(1, 64, kernel_size=3, stride=1, padding=1, bias=False)\n",
    "        self.bn1 = nn.BatchNorm2d(64)\n",
    "        self.relu = nn.ReLU(inplace=True)\n",
    "        self.maxpool = nn.MaxPool2d(kernel_size=3, stride=2, padding=1)\n",
    "        \n",
    "        self.layer1 = self._make_layer(BasicBlock, 64, 2, stride=1)\n",
    "        self.layer2 = self._make_layer(BasicBlock, 128, 2, stride=2)\n",
    "        # self.layer3 = self._make_layer(BasicBlock, 256, 2, stride=2)\n",
    "        #self.layer4 = self._make_layer(BasicBlock, 512, 2, stride=2)\n",
    "        \n",
    "        self.avgpool = nn.AdaptiveAvgPool2d((1, 1))\n",
    "        self.fc = nn.Linear(128, num_classes)\n",
    "    def _make_layer(self, block, out_channels, num_blocks, stride):\n",
    "        strides = [stride] + [1] * (num_blocks - 1)\n",
    "        layers = []\n",
    "        for stride in strides:\n",
    "            layers.append(block(self.in_channels, out_channels, stride))\n",
    "            self.in_channels = out_channels\n",
    "        return nn.Sequential(*layers)\n",
    "    def forward(self, x):\n",
    "        x=x.unsqueeze(1)\n",
    "        out = self.conv1(x)\n",
    "        out = self.bn1(out)\n",
    "        out = self.relu(out)\n",
    "        out = self.maxpool(out)\n",
    "        \n",
    "        out = self.layer1(out)\n",
    "        out = self.layer2(out)\n",
    "        # out = self.layer3(out)\n",
    "        #out = self.layer4(out)\n",
    "        \n",
    "        out = self.avgpool(out)\n",
    "        out = out.view(out.size(0), -1)\n",
    "        out = self.fc(out)\n",
    "        return out\n"
   ]
  },
  {
   "cell_type": "code",
   "execution_count": 36,
   "id": "b8e260e7-9511-43d7-8d86-5b2b3bfc8132",
   "metadata": {
    "execution": {
     "iopub.execute_input": "2024-11-29T08:07:05.270313Z",
     "iopub.status.busy": "2024-11-29T08:07:05.269395Z",
     "iopub.status.idle": "2024-11-29T08:07:05.331515Z",
     "shell.execute_reply": "2024-11-29T08:07:05.330686Z",
     "shell.execute_reply.started": "2024-11-29T08:07:05.270272Z"
    },
    "tags": []
   },
   "outputs": [
    {
     "name": "stdout",
     "output_type": "stream",
     "text": [
      "MyResNet18(\n",
      "  (conv1): Conv2d(1, 64, kernel_size=(3, 3), stride=(1, 1), padding=(1, 1), bias=False)\n",
      "  (bn1): BatchNorm2d(64, eps=1e-05, momentum=0.1, affine=True, track_running_stats=True)\n",
      "  (relu): ReLU(inplace=True)\n",
      "  (maxpool): MaxPool2d(kernel_size=3, stride=2, padding=1, dilation=1, ceil_mode=False)\n",
      "  (layer1): Sequential(\n",
      "    (0): BasicBlock(\n",
      "      (conv1): Conv2d(64, 64, kernel_size=(3, 3), stride=(1, 1), padding=(1, 1), bias=False)\n",
      "      (bn1): BatchNorm2d(64, eps=1e-05, momentum=0.1, affine=True, track_running_stats=True)\n",
      "      (relu): ReLU(inplace=True)\n",
      "      (conv2): Conv2d(64, 64, kernel_size=(3, 3), stride=(1, 1), padding=(1, 1), bias=False)\n",
      "      (bn2): BatchNorm2d(64, eps=1e-05, momentum=0.1, affine=True, track_running_stats=True)\n",
      "      (shortcut): Sequential()\n",
      "    )\n",
      "    (1): BasicBlock(\n",
      "      (conv1): Conv2d(64, 64, kernel_size=(3, 3), stride=(1, 1), padding=(1, 1), bias=False)\n",
      "      (bn1): BatchNorm2d(64, eps=1e-05, momentum=0.1, affine=True, track_running_stats=True)\n",
      "      (relu): ReLU(inplace=True)\n",
      "      (conv2): Conv2d(64, 64, kernel_size=(3, 3), stride=(1, 1), padding=(1, 1), bias=False)\n",
      "      (bn2): BatchNorm2d(64, eps=1e-05, momentum=0.1, affine=True, track_running_stats=True)\n",
      "      (shortcut): Sequential()\n",
      "    )\n",
      "  )\n",
      "  (layer2): Sequential(\n",
      "    (0): BasicBlock(\n",
      "      (conv1): Conv2d(64, 128, kernel_size=(3, 3), stride=(2, 2), padding=(1, 1), bias=False)\n",
      "      (bn1): BatchNorm2d(128, eps=1e-05, momentum=0.1, affine=True, track_running_stats=True)\n",
      "      (relu): ReLU(inplace=True)\n",
      "      (conv2): Conv2d(128, 128, kernel_size=(3, 3), stride=(1, 1), padding=(1, 1), bias=False)\n",
      "      (bn2): BatchNorm2d(128, eps=1e-05, momentum=0.1, affine=True, track_running_stats=True)\n",
      "      (shortcut): Sequential(\n",
      "        (0): Conv2d(64, 128, kernel_size=(1, 1), stride=(2, 2), bias=False)\n",
      "        (1): BatchNorm2d(128, eps=1e-05, momentum=0.1, affine=True, track_running_stats=True)\n",
      "      )\n",
      "    )\n",
      "    (1): BasicBlock(\n",
      "      (conv1): Conv2d(128, 128, kernel_size=(3, 3), stride=(1, 1), padding=(1, 1), bias=False)\n",
      "      (bn1): BatchNorm2d(128, eps=1e-05, momentum=0.1, affine=True, track_running_stats=True)\n",
      "      (relu): ReLU(inplace=True)\n",
      "      (conv2): Conv2d(128, 128, kernel_size=(3, 3), stride=(1, 1), padding=(1, 1), bias=False)\n",
      "      (bn2): BatchNorm2d(128, eps=1e-05, momentum=0.1, affine=True, track_running_stats=True)\n",
      "      (shortcut): Sequential()\n",
      "    )\n",
      "  )\n",
      "  (avgpool): AdaptiveAvgPool2d(output_size=(1, 1))\n",
      "  (fc): Linear(in_features=128, out_features=30, bias=True)\n",
      ")\n",
      "678110\n"
     ]
    }
   ],
   "source": [
    "model = MyResNet18()\n",
    "print(model)\n",
    "print(sum([p.numel() for p in model.parameters()]))"
   ]
  },
  {
   "cell_type": "markdown",
   "id": "fbd4991c-1fae-46aa-8d6a-b132b0e902e7",
   "metadata": {
    "tags": []
   },
   "source": [
    "### Проверки"
   ]
  },
  {
   "cell_type": "code",
   "execution_count": 37,
   "id": "a62420af-c317-43eb-bfc1-a8e710ec15c2",
   "metadata": {
    "execution": {
     "iopub.execute_input": "2024-11-29T08:07:09.271384Z",
     "iopub.status.busy": "2024-11-29T08:07:09.270433Z",
     "iopub.status.idle": "2024-11-29T08:07:09.293735Z",
     "shell.execute_reply": "2024-11-29T08:07:09.292924Z",
     "shell.execute_reply.started": "2024-11-29T08:07:09.271346Z"
    },
    "tags": []
   },
   "outputs": [],
   "source": [
    "train_data, val_data = torch.utils.data.random_split(trainset, (0.9, 0.1), generator=torch.Generator().manual_seed(42))\n",
    "val_data.dataset.split_part=\"train\"\n",
    "loader = torch_data.DataLoader(\n",
    "        val_data,\n",
    "        batch_size=4,\n",
    "        shuffle=True,\n",
    "        num_workers=LOADER_WORKERS,\n",
    "        collate_fn=collate_fn\n",
    "    )"
   ]
  },
  {
   "cell_type": "code",
   "execution_count": 38,
   "id": "7e2add1f-842e-453d-b8d2-bcf23699db45",
   "metadata": {
    "execution": {
     "iopub.execute_input": "2024-11-29T08:07:11.769071Z",
     "iopub.status.busy": "2024-11-29T08:07:11.767995Z",
     "iopub.status.idle": "2024-11-29T08:07:12.327527Z",
     "shell.execute_reply": "2024-11-29T08:07:12.326406Z",
     "shell.execute_reply.started": "2024-11-29T08:07:11.769026Z"
    },
    "tags": []
   },
   "outputs": [
    {
     "name": "stdout",
     "output_type": "stream",
     "text": [
      "tensor([[24],\n",
      "        [16],\n",
      "        [14],\n",
      "        [29]])\n"
     ]
    },
    {
     "data": {
      "text/plain": [
       "<matplotlib.image.AxesImage at 0x7f3abbf521a0>"
      ]
     },
     "execution_count": 38,
     "metadata": {},
     "output_type": "execute_result"
    },
    {
     "data": {
      "image/png": "[encoded data removed]",
      "text/plain": [
       "<Figure size 588.75x480 with 1 Axes>"
      ]
     },
     "metadata": {},
     "output_type": "display_data"
    }
   ],
   "source": [
    "print(next(iter(loader))['targets'])\n",
    "img = next(iter(loader))['anchor'][0]\n",
    "plt.matshow(img)"
   ]
  },
  {
   "cell_type": "code",
   "execution_count": 40,
   "id": "442e58f2-cda1-4e0a-912f-addf1304908b",
   "metadata": {
    "execution": {
     "iopub.execute_input": "2024-11-29T08:08:07.644277Z",
     "iopub.status.busy": "2024-11-29T08:08:07.643369Z",
     "iopub.status.idle": "2024-11-29T08:08:07.958901Z",
     "shell.execute_reply": "2024-11-29T08:08:07.958083Z",
     "shell.execute_reply.started": "2024-11-29T08:08:07.644233Z"
    },
    "tags": []
   },
   "outputs": [
    {
     "data": {
      "text/plain": [
       "torch.Size([4, 30])"
      ]
     },
     "execution_count": 40,
     "metadata": {},
     "output_type": "execute_result"
    }
   ],
   "source": [
    "model = MyResNet18()\n",
    "model(next(iter(loader))['anchor']).shape"
   ]
  },
  {
   "cell_type": "markdown",
   "id": "e0bbfc68-bf57-4a6a-8abc-23540d7430aa",
   "metadata": {
    "tags": []
   },
   "source": [
    "### Трейн"
   ]
  },
  {
   "cell_type": "code",
   "execution_count": 50,
   "id": "317501ba-b30f-402d-9150-f949ba84d5ba",
   "metadata": {
    "execution": {
     "iopub.execute_input": "2024-11-29T10:39:32.330129Z",
     "iopub.status.busy": "2024-11-29T10:39:32.329379Z",
     "iopub.status.idle": "2024-11-29T10:39:32.447231Z",
     "shell.execute_reply": "2024-11-29T10:39:32.446382Z",
     "shell.execute_reply.started": "2024-11-29T10:39:32.330089Z"
    },
    "tags": []
   },
   "outputs": [
    {
     "data": {
      "text/plain": [
       "<All keys matched successfully>"
      ]
     },
     "execution_count": 50,
     "metadata": {},
     "output_type": "execute_result"
    }
   ],
   "source": [
    "#!g4.1\n",
    "torch.cuda.empty_cache()\n",
    "\n",
    "model = MyResNet18().to(DEVICE)\n",
    "# print(model.parameters())\n",
    "opt = torch.optim.Adam(model.parameters(), lr=0.003, foreach=False)\n",
    "scheduler =torch.optim.lr_scheduler.PolynomialLR(opt, 100) #lr меняем на последний полученный\n",
    "# scheduler = torch.optim.lr_scheduler.ReduceLROnPlateau(opt, factor=0.5, patience=200)\n",
    "checkpoint = torch.load(os.path.join(models_dir, \"triplet_resnet_20241129_093254.pt\"), weights_only=True, map_location=DEVICE)\n",
    "model.load_state_dict(checkpoint[\"model_state_dict\"])\n",
    "model.load_state_dict(checkpoint[\"model_state_dict\"])\n",
    "# opt.load_state_dict(checkpoint[\"optimizer_state_dict\"])\n",
    "#train(model, opt, scheduler, batch_size=64, epochs = 10)"
   ]
  },
  {
   "cell_type": "markdown",
   "id": "a31c47fb-24ea-45f6-bfbd-3005c90c1df5",
   "metadata": {
    "tags": []
   },
   "source": [
    "### Трейн МИНИ"
   ]
  },
  {
   "cell_type": "code",
   "execution_count": 51,
   "id": "e9278398-2b52-48e4-a1ec-9ca13bc20515",
   "metadata": {
    "execution": {
     "iopub.execute_input": "2024-11-29T10:39:34.521396Z",
     "iopub.status.busy": "2024-11-29T10:39:34.520399Z",
     "iopub.status.idle": "2024-11-29T10:40:00.987299Z",
     "shell.execute_reply": "2024-11-29T10:40:00.986390Z",
     "shell.execute_reply.started": "2024-11-29T10:39:34.521355Z"
    },
    "tags": []
   },
   "outputs": [
    {
     "data": {
      "application/vnd.jupyter.widget-view+json": {
       "model_id": "6513371832da425c9ecbc8e95f189dea",
       "version_major": 2,
       "version_minor": 0
      },
      "text/plain": [
       "  0%|          | 0/3000 [00:00<?, ?it/s]"
      ]
     },
     "metadata": {},
     "output_type": "display_data"
    }
   ],
   "source": [
    "result = []\n",
    "for idx, ytid in enumerate(tqdm.tqdm(testset._ytids)):\n",
    "    model.eval()\n",
    "    with torch.no_grad():\n",
    "        # feats, _ = testset[idx]\n",
    "        testdict = testset[idx]\n",
    "        feats = testdict['anchor']\n",
    "        # predict = torch.argmax(model.forward(feats.reshape(1, FEATS, -1).to(DEVICE)), dim=1).item\n",
    "        # print(feats.shape)\n",
    "        pred_anchor = model.forward(feats.unsqueeze(0).to(DEVICE))\n",
    "        \n",
    "        predict = torch.argmax(pred_anchor, dim=1).cpu().data.numpy().reshape(-1)[0]\n",
    "        # print(predict)\n",
    "        result.append((ytid, trainset._idx_to_label[predict]))\n",
    "pd.DataFrame(result, columns=['YTID', 'label']).to_csv(os.path.join(\"results\", f'result_{get_date_id()}.tsv'), sep='\\t', index=False)"
   ]
  },
  {
   "cell_type": "code",
   "execution_count": 25,
   "id": "c3ea1213-a0bc-4b4d-b097-b2db1d138179",
   "metadata": {
    "execution": {
     "iopub.execute_input": "2024-11-26T21:06:58.818727Z",
     "iopub.status.busy": "2024-11-26T21:06:58.817265Z",
     "iopub.status.idle": "2024-11-26T21:06:58.841667Z",
     "shell.execute_reply": "2024-11-26T21:06:58.840725Z",
     "shell.execute_reply.started": "2024-11-26T21:06:58.818670Z"
    },
    "tags": []
   },
   "outputs": [],
   "source": [
    "look = pd.read_csv(os.path.join(\"results\", f'...'), sep='\\t')"
   ]
  },
  {
   "cell_type": "code",
   "execution_count": 26,
   "id": "e2a6efc3-9132-4a4c-b5b6-89cbf49329d3",
   "metadata": {
    "execution": {
     "iopub.execute_input": "2024-11-26T21:07:01.096756Z",
     "iopub.status.busy": "2024-11-26T21:07:01.095536Z",
     "iopub.status.idle": "2024-11-26T21:07:01.161807Z",
     "shell.execute_reply": "2024-11-26T21:07:01.160892Z",
     "shell.execute_reply.started": "2024-11-26T21:07:01.096707Z"
    },
    "tags": []
   },
   "outputs": [
    {
     "data": {
      "text/html": [
       "<div>\n",
       "<style scoped>\n",
       "    .dataframe tbody tr th:only-of-type {\n",
       "        vertical-align: middle;\n",
       "    }\n",
       "\n",
       "    .dataframe tbody tr th {\n",
       "        vertical-align: top;\n",
       "    }\n",
       "\n",
       "    .dataframe thead th {\n",
       "        text-align: right;\n",
       "    }\n",
       "</style>\n",
       "<table border=\"1\" class=\"dataframe\">\n",
       "  <thead>\n",
       "    <tr style=\"text-align: right;\">\n",
       "      <th></th>\n",
       "      <th>YTID</th>\n",
       "      <th>label</th>\n",
       "    </tr>\n",
       "  </thead>\n",
       "  <tbody>\n",
       "    <tr>\n",
       "      <th>0</th>\n",
       "      <td>_oDTEjyE75U_40000</td>\n",
       "      <td>Vacuum cleaner</td>\n",
       "    </tr>\n",
       "    <tr>\n",
       "      <th>1</th>\n",
       "      <td>5A-8VUzAC1M_180000</td>\n",
       "      <td>Music</td>\n",
       "    </tr>\n",
       "    <tr>\n",
       "      <th>2</th>\n",
       "      <td>2sfvzpI4MPE_50000</td>\n",
       "      <td>Vacuum cleaner</td>\n",
       "    </tr>\n",
       "    <tr>\n",
       "      <th>3</th>\n",
       "      <td>M6w5HD8YIsY_60000</td>\n",
       "      <td>Whistling</td>\n",
       "    </tr>\n",
       "    <tr>\n",
       "      <th>4</th>\n",
       "      <td>4IEpPBzMCN4_10000</td>\n",
       "      <td>Printer</td>\n",
       "    </tr>\n",
       "    <tr>\n",
       "      <th>...</th>\n",
       "      <td>...</td>\n",
       "      <td>...</td>\n",
       "    </tr>\n",
       "    <tr>\n",
       "      <th>2995</th>\n",
       "      <td>Wj87qPZQKKw_30000</td>\n",
       "      <td>Vehicle</td>\n",
       "    </tr>\n",
       "    <tr>\n",
       "      <th>2996</th>\n",
       "      <td>37xr3DyPbwc_10000</td>\n",
       "      <td>Snoring</td>\n",
       "    </tr>\n",
       "    <tr>\n",
       "      <th>2997</th>\n",
       "      <td>m66t_j137lw_0</td>\n",
       "      <td>Laughter</td>\n",
       "    </tr>\n",
       "    <tr>\n",
       "      <th>2998</th>\n",
       "      <td>9roCUZR-xzM_30000</td>\n",
       "      <td>Sound effect</td>\n",
       "    </tr>\n",
       "    <tr>\n",
       "      <th>2999</th>\n",
       "      <td>3R1FIrnVo14_30000</td>\n",
       "      <td>Vacuum cleaner</td>\n",
       "    </tr>\n",
       "  </tbody>\n",
       "</table>\n",
       "<p>3000 rows × 2 columns</p>\n",
       "</div>"
      ],
      "text/plain": [
       "                    YTID           label\n",
       "0      _oDTEjyE75U_40000  Vacuum cleaner\n",
       "1     5A-8VUzAC1M_180000           Music\n",
       "2      2sfvzpI4MPE_50000  Vacuum cleaner\n",
       "3      M6w5HD8YIsY_60000       Whistling\n",
       "4      4IEpPBzMCN4_10000         Printer\n",
       "...                  ...             ...\n",
       "2995   Wj87qPZQKKw_30000         Vehicle\n",
       "2996   37xr3DyPbwc_10000         Snoring\n",
       "2997       m66t_j137lw_0        Laughter\n",
       "2998   9roCUZR-xzM_30000    Sound effect\n",
       "2999   3R1FIrnVo14_30000  Vacuum cleaner\n",
       "\n",
       "[3000 rows x 2 columns]"
      ]
     },
     "execution_count": 26,
     "metadata": {},
     "output_type": "execute_result"
    }
   ],
   "source": [
    "look"
   ]
  }
 ],
 "metadata": {
  "kernelspec": {
   "display_name": "Python 3 (ipykernel)",
   "language": "python",
   "name": "python3"
  },
  "language_info": {
   "codemirror_mode": {
    "name": "ipython",
    "version": 3
   },
   "file_extension": ".py",
   "mimetype": "text/x-python",
   "name": "python",
   "nbconvert_exporter": "python",
   "pygments_lexer": "ipython3",
   "version": "3.11.8"
  },
  "toc-showcode": false
 },
 "nbformat": 4,
 "nbformat_minor": 5
}
